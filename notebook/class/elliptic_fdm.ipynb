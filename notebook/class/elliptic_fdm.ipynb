{
 "cells": [
  {
   "cell_type": "markdown",
   "id": "c507f102-9929-4484-aae7-8cf147a89f53",
   "metadata": {},
   "source": [
    "# 椭圆方程有限差分求解编程示例\n",
    "\n",
    "* 利用 SymPy 中 `diff`、 `sympify` 和 `lambdify` 函数编写更通用的 PDE 方程模型\n",
    "* 演示数值计算编程的最佳实践原则和流程"
   ]
  },
  {
   "cell_type": "markdown",
   "id": "abf241a0",
   "metadata": {},
   "source": [
    "## 一、 一维有限差分"
   ]
  },
  {
   "cell_type": "markdown",
   "id": "228767ca",
   "metadata": {},
   "source": [
    "### 算例一"
   ]
  },
  {
   "cell_type": "markdown",
   "id": "988d0aa4",
   "metadata": {},
   "source": [
    "利用有限差分基于 FEALPy 求解\n",
    "$$\\begin{cases}\n",
    "-u''(x) + 2u(x) = f(x), \\\\\n",
    "u(-1)=0, u(1) = 0,\n",
    "\\end{cases}$$\n",
    "其真解为\n",
    "$$ u(x) = e^{-x^2}(1 - x^2)$$\n",
    "\n",
    "$$f(x) = 2 \\cdot \\left(1 - x^{2}\\right) e^{- x^{2}} - 2 \\cdot \\left(4 x^{2} - \\left(x^{2} - 1\\right) \\left(2 x^{2} - 1\\right) - 1\\right) e^{- x^{2}}$$"
   ]
  },
  {
   "cell_type": "markdown",
   "id": "753172b1",
   "metadata": {},
   "source": [
    "首先，我们演示 SymPy 中 `diff`、 `sympify` 和 `lambdify` 函数的用法及如何获取帮助。"
   ]
  },
  {
   "cell_type": "code",
   "execution_count": 2,
   "id": "f00c259e-ede3-4453-b748-aee1ef3cf23c",
   "metadata": {
    "tags": []
   },
   "outputs": [],
   "source": [
    "from sympy import *"
   ]
  },
  {
   "cell_type": "markdown",
   "id": "66bc3b28",
   "metadata": {},
   "source": [
    "接着，我们演示如何用上面的三个函数编写更通用的 PDE 数据模型类，并强调测试程序正确性的重要性。"
   ]
  },
  {
   "cell_type": "code",
   "execution_count": 3,
   "id": "723bd70d-096c-4f8f-a63d-0b08f5eedb66",
   "metadata": {
    "tags": []
   },
   "outputs": [],
   "source": [
    "from sympy import * \n",
    "import numpy as np\n",
    "\n",
    "class PdeData:\n",
    "    def __init__(self, u:str,  x:str, domain=[0, 1]):\n",
    "        pass"
   ]
  },
  {
   "cell_type": "markdown",
   "id": "7be93da1",
   "metadata": {},
   "source": [
    "最后，我们演示如何基于 FEALPy 编写整个有限差分求解一维椭圆方程的程序，并进行误差分析。"
   ]
  },
  {
   "cell_type": "code",
   "execution_count": null,
   "id": "10c8997d-9eba-42b1-ace4-fd1250427d5b",
   "metadata": {
    "tags": []
   },
   "outputs": [],
   "source": [
    "import numpy as np"
   ]
  },
  {
   "cell_type": "markdown",
   "id": "9fb59603",
   "metadata": {},
   "source": [
    "### 算例二: 更一般的椭圆方程\n",
    "\n",
    "利用有限差分基于 FEALPy 求解\n",
    "$$\\begin{cases}\n",
    "-u''(x) + 3u'(x) + 2u(x) = f(x), \\\\\n",
    "u(-1)=0, u(1) = 0,\n",
    "\\end{cases}$$\n",
    "其真解为\n",
    "$$ u(x) = e^{-x^2}(1 - x^2)$$"
   ]
  },
  {
   "cell_type": "markdown",
   "id": "7fc432f0",
   "metadata": {},
   "source": [
    "## 二维有限差分"
   ]
  },
  {
   "cell_type": "markdown",
   "id": "799045a5",
   "metadata": {},
   "source": [
    "利用有限差分法求解定义在区域 $\\Omega=[0, 1]^2$ 上的 PDE 模型：\n",
    "$$\\begin{aligned}\n",
    "-\\Delta u(x,y) &= f(x,y),\\\\\n",
    "u|_{\\partial\\Omega}&=g_D(x,y)\n",
    "\\end{aligned}$$\n",
    "\n",
    "其真解为\n",
    "\n",
    "$$u(x,y) = \\sin(\\pi x)\\sin(\\pi y) - \\cos(\\pi x)\\cos(\\pi y) + 1.$$"
   ]
  },
  {
   "cell_type": "markdown",
   "id": "79973e74",
   "metadata": {},
   "source": [
    "## 三维有限差分"
   ]
  },
  {
   "cell_type": "markdown",
   "id": "bb78f496",
   "metadata": {},
   "source": [
    "用有限差分方法求解定义在区域  $$\\Omega=[0, 1]^3$$上的泊松方程：\n",
    "$$-\\Delta u(x,y,z)=f(x,y,z),$$\n",
    "$$u|_{\\partial\\Omega}=0$$\n",
    "其真解为\n",
    "$$u(x,y,z)=\\cos(\\pi x)\\cos(\\pi y)\\cos(\\pi z).$$"
   ]
  },
  {
   "cell_type": "markdown",
   "id": "d282c167",
   "metadata": {},
   "source": [
    "首先，准备好 PDE 模型"
   ]
  },
  {
   "cell_type": "code",
   "execution_count": null,
   "id": "1883608c-7f24-4a11-b3f8-3c60836bbb3e",
   "metadata": {},
   "outputs": [],
   "source": []
  },
  {
   "cell_type": "markdown",
   "id": "b36aa6b3",
   "metadata": {},
   "source": []
  }
 ],
 "metadata": {
  "kernelspec": {
   "display_name": "Python 3 (ipykernel)",
   "language": "python",
   "name": "python3"
  },
  "language_info": {
   "codemirror_mode": {
    "name": "ipython",
    "version": 3
   },
   "file_extension": ".py",
   "mimetype": "text/x-python",
   "name": "python",
   "nbconvert_exporter": "python",
   "pygments_lexer": "ipython3",
   "version": "3.10.12"
  }
 },
 "nbformat": 4,
 "nbformat_minor": 5
}
