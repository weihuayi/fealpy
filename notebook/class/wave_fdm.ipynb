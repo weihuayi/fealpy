{
 "cells": [
  {
   "cell_type": "markdown",
   "id": "c507f102-9929-4484-aae7-8cf147a89f53",
   "metadata": {},
   "source": [
    "# 波动方程有限差分求解编程示例\n",
    "\n",
    "* 利用 SymPy 中 `diff`、 `sympify` 和 `lambdify` 函数编写更通用的 PDE 方程模型\n",
    "* 演示数值计算编程的最佳实践原则和流程\n",
    "* 引入 PDE 模型的基类"
   ]
  },
  {
   "cell_type": "markdown",
   "id": "abf241a0",
   "metadata": {},
   "source": [
    "## 一、 一维有限差分"
   ]
  },
  {
   "cell_type": "markdown",
   "id": "228767ca",
   "metadata": {},
   "source": [
    "### 算例一"
   ]
  },
  {
   "cell_type": "markdown",
   "id": "988d0aa4",
   "metadata": {},
   "source": [
    "利用下面的差分格式：\n",
    "$$\\frac{u_i^{n}-2u_i^{n-1}+u_i^{n-2}}{\\tau^2}=a^2\\frac{u_{i+1}^{n-1}-2u_i^{n-1}+u_{i-1}^{n-1}}{h^2},\\qquad i=0,\\pm1,\\pm2,\\cdots;n=2,3,\\cdots$$\n",
    "以及初始差分方程\n",
    "$$u_i^0=\\phi_0(x_i)$$\n",
    "$$\\frac{u_{i}^{1}-u_{i}^{0}}{ \\tau} = \\phi_1(x_i)$$\n",
    "数值求解：\n",
    "$$\\begin{aligned}{\n",
    "\\frac{\\partial^{2} u}{\\partial t^{2}}- \n",
    "\\frac{\\partial^{2} u}{\\partial x^{2}} = 0,\\quad 0 <x<1,\\quad t>0\n",
    "} \\\\ \n",
    "{\n",
    "u(x, 0) = \\phi_{0}(x), u_{t}(x, 0) = \\phi_{1}(x),\\quad 0<x<1,\n",
    "}\\\\\n",
    "u(0, t) = \\varphi_{0}(t), u(1, t) = \\varphi_{1}(t), \\quad t\\ge 0.\n",
    "\\end{aligned}$$\n",
    "其中，\n",
    "$$\\phi_{0}(x) = \\sin\\pi x, \\quad \\phi_1(x) = \\cos\\pi x,$$\n",
    "$$\\varphi_{0}(t) = \\frac{\\sin\\pi t}{\\pi}, \\quad \\varphi_1(t) = -\\frac{\\sin\\pi t}{\\pi}.$$\n",
    "真解为\n",
    "$$u(x, t) = \\frac{\\sin\\pi (x - t) + \\sin\\pi (x + t)}{2} - \\frac{\\sin\\pi (x - t) - \\sin\\pi (x + t)}{2\\pi}.$$\n",
    "（1）取 $\\tau=0.05,h=0.1$，画出时间层 $t=0.5,1.0,1.5,2.0$ 的解的图像，并计算这些时间层上数值解与真解的误差。\n",
    "（2）取 $\\tau=h=0.1$，画出时间层 $t=0.5,1.0,1.5,2.0$ 的解的图像，并计算这些时间层上数值解与真解的误差。"
   ]
  },
  {
   "cell_type": "markdown",
   "id": "66bc3b28",
   "metadata": {},
   "source": [
    "首先利用 SymPy 编写更通用的 PDE 数据模型类，并强调测试程序正确性的重要性。"
   ]
  },
  {
   "cell_type": "code",
   "execution_count": 3,
   "id": "723bd70d-096c-4f8f-a63d-0b08f5eedb66",
   "metadata": {
    "tags": []
   },
   "outputs": [],
   "source": []
  },
  {
   "cell_type": "markdown",
   "id": "7be93da1",
   "metadata": {},
   "source": [
    "最后，我们演示如何基于 FEALPy 编写整个有限差分求解一维椭圆方程的程序，并进行误差分析。"
   ]
  },
  {
   "cell_type": "code",
   "execution_count": null,
   "id": "10c8997d-9eba-42b1-ace4-fd1250427d5b",
   "metadata": {
    "tags": []
   },
   "outputs": [],
   "source": []
  },
  {
   "cell_type": "code",
   "execution_count": null,
   "id": "bfb2fe7f",
   "metadata": {},
   "outputs": [],
   "source": [
    "\n"
   ]
  },
  {
   "cell_type": "markdown",
   "id": "b36aa6b3",
   "metadata": {},
   "source": []
  },
  {
   "cell_type": "markdown",
   "id": "10673727",
   "metadata": {},
   "source": [
    "# 二维有限差分\n"
   ]
  },
  {
   "cell_type": "markdown",
   "id": "f1f93ba4",
   "metadata": {},
   "source": []
  }
 ],
 "metadata": {
  "kernelspec": {
   "display_name": "Python 3 (ipykernel)",
   "language": "python",
   "name": "python3"
  },
  "language_info": {
   "codemirror_mode": {
    "name": "ipython",
    "version": 3
   },
   "file_extension": ".py",
   "mimetype": "text/x-python",
   "name": "python",
   "nbconvert_exporter": "python",
   "pygments_lexer": "ipython3",
   "version": "3.10.12"
  }
 },
 "nbformat": 4,
 "nbformat_minor": 5
}
