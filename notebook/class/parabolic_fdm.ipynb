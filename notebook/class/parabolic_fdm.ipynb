{
 "cells": [
  {
   "cell_type": "markdown",
   "id": "c507f102-9929-4484-aae7-8cf147a89f53",
   "metadata": {},
   "source": [
    "# 抛物方程有限差分求解编程示例\n",
    "\n",
    "* 利用 SymPy 中 `diff`、 `sympify` 和 `lambdify` 函数编写更通用的 PDE 方程模型\n",
    "* 演示数值计算编程的最佳实践原则和流程\n",
    "* 引入 PDE 模型的基类"
   ]
  },
  {
   "cell_type": "markdown",
   "id": "abf241a0",
   "metadata": {},
   "source": [
    "## 一、 一维有限差分"
   ]
  },
  {
   "cell_type": "markdown",
   "id": "228767ca",
   "metadata": {},
   "source": [
    "### 算例一"
   ]
  },
  {
   "cell_type": "markdown",
   "id": "988d0aa4",
   "metadata": {},
   "source": [
    "考虑如下抛物方程问题：\n",
    "$$\\begin{cases}\n",
    "&\\dfrac{\\partial u}{\\partial t}-\\dfrac{\\partial^2u}{\\partial x^2}=f(x,t),\\\\\n",
    "& u(0,t)=0,\\quad u(1,t)=0,\\\\\n",
    "& u(x,0)=u_0(x).\n",
    "\\end{cases}$$\n",
    "其中$k=1$。给定一个具体的真解\n",
    "$$u(x,t) = \\sin(4\\pi x)e^{-10t}.$$"
   ]
  },
  {
   "cell_type": "markdown",
   "id": "66bc3b28",
   "metadata": {},
   "source": [
    "首先利用 SymPy 编写更通用的 PDE 数据模型类，并强调测试程序正确性的重要性。"
   ]
  },
  {
   "cell_type": "code",
   "execution_count": 3,
   "id": "723bd70d-096c-4f8f-a63d-0b08f5eedb66",
   "metadata": {
    "tags": []
   },
   "outputs": [],
   "source": [
    "import numpy as np\n",
    "from sympy import *\n",
    "\n",
    "class ParabolicPDEData1D: \n",
    "    def __init__(self, u:str, x: str='x', t: str='t', k=1.0, D=[0, 1], T=[0, 1]):\n",
    "        \"\"\"\n",
    "        @brief 模型初始化函数\n",
    "        @param[in] D 模型空间定义域\n",
    "        @param[in] T 模型时间定义域\n",
    "        \"\"\"\n",
    "        self.u = lambdify([x, t], simplify(u))\n",
    "        self.f = lambdify([x, t], diff(u, t,1) - k*diff(u, x, 2))\n",
    "        self.dudx = lambdify([x, t], diff(u, x, 1))\n",
    "        self._domain = D \n",
    "        self._duration = T \n",
    "\n",
    "    def domain(self):\n",
    "        \"\"\"\n",
    "        @brief 空间区间\n",
    "        \"\"\"\n",
    "        return self._domain\n",
    "\n",
    "    def duration(self):\n",
    "        \"\"\"\n",
    "        @brief 时间区间\n",
    "        \"\"\"\n",
    "        return self._duration \n",
    "        \n",
    "    def solution(self, p, t):\n",
    "        \"\"\"\n",
    "        @brief 真解函数\n",
    "\n",
    "        @param[in] p numpy.ndarray, 空间点\n",
    "        @param[in] t float, 时间点 \n",
    "\n",
    "        @return 真解函数值\n",
    "        \"\"\"\n",
    "        return self.u(p, t) \n",
    "\n",
    "    def init_solution(self, p):\n",
    "        \"\"\"\n",
    "        @brief 真解函数\n",
    "\n",
    "        @param[in] p numpy.ndarray, 空间点\n",
    "        @param[in] t float, 时间点 \n",
    "\n",
    "        @return 真解函数值\n",
    "        \"\"\"\n",
    "        return self.u(p, 0.0)\n",
    "        \n",
    "    def source(self, p, t):\n",
    "        \"\"\"\n",
    "        @brief 方程右端项 \n",
    "\n",
    "        @param[in] p numpy.ndarray, 空间点\n",
    "        @param[in] t float, 时间点 \n",
    "\n",
    "        @return 方程右端函数值\n",
    "        \"\"\"\n",
    "        return self.f(p, t)\n",
    "    \n",
    "    def gradient(self, p, t):\n",
    "        \"\"\"\n",
    "        @brief 真解导数 \n",
    "\n",
    "        @param[in] p numpy.ndarray, 空间点\n",
    "        @param[in] t float, 时间点 \n",
    "\n",
    "        @return 真解导函数值\n",
    "        \"\"\"\n",
    "        return self.dudx(p, t)\n",
    "\n",
    "    def dirichlet(self, p, t):\n",
    "        \"\"\"\n",
    "        @brief Dirichlet 边界条件\n",
    "\n",
    "        @param[in] p numpy.ndarray, 空间点\n",
    "        @param[in] t float, 时间点 \n",
    "        \"\"\"\n",
    "        return self.solution(p, t)\n",
    "\n",
    "pde = ParabolicPDEData1D('sin(4*pi*x)*exp(-10*t)')"
   ]
  },
  {
   "cell_type": "markdown",
   "id": "7be93da1",
   "metadata": {},
   "source": [
    "最后，我们演示如何基于 FEALPy 编写整个有限差分求解一维椭圆方程的程序，并进行误差分析。"
   ]
  },
  {
   "cell_type": "code",
   "execution_count": null,
   "id": "10c8997d-9eba-42b1-ace4-fd1250427d5b",
   "metadata": {
    "tags": []
   },
   "outputs": [],
   "source": [
    "from fealpy.mesh import UniformMesh1d\n",
    "\n",
    "pde = ParabolicPDEData('sin(4*pi*x)*exp(-10*t)')\n",
    "\n",
    "domain = pde.domain()\n",
    "nx = 10\n",
    "hx = (domain[1] - domain[0])/nx\n",
    "mesh = UniformMesh1d([0, nx], h=hx, origin=domain[0])\n",
    "\n",
    "duration = pde.duration()\n",
    "nt =400\n",
    "tau = (duration[1] - duration[0])/nt\n",
    "\n",
    "uh0 = mesh.interpolate(pde.init_solution, intertype='node')\n"
   ]
  },
  {
   "cell_type": "code",
   "execution_count": null,
   "id": "bfb2fe7f",
   "metadata": {},
   "outputs": [],
   "source": [
    "\n",
    "def advance_forward(n: np.int_):\n",
    "    \"\"\"\n",
    "    @brief 时间步进格式为向前欧拉方法\n",
    "\n",
    "    @param[in] n int, 表示第 n 个时间步（当前时间步） \n",
    "    \"\"\"\n",
    "    t = duration[0] + n*tau\n",
    "    if n == 0:\n",
    "        return uh0, t\n",
    "    else:\n",
    "        A = mesh.parabolic_operator_forward(tau)\n",
    "        source= lambda p: pde.source(p, t + tau)\n",
    "        f = mesh.interpolate(source, intertype='node')\n",
    "        uh0[:] = A@uh0 + tau*f\n",
    "        gD = lambda p: pde.dirichlet(p, t + tau)\n",
    "        mesh.update_dirichlet_bc(gD, uh0)\n",
    "        \n",
    "        solution = lambda p: pde.solution(p, t + tau)\n",
    "        e = mesh.error(solution, uh0, errortype='max')\n",
    "        print(f\"the max error is {e}\")\n",
    "        return uh0, t\n",
    "\n",
    "\n",
    "fig, axes = plt.subplots()\n",
    "box = [0, 1, -1.5, 1.5] # 图像显示的范围 0 <= x <= 1, -1.5 <= y <= 1.5\n",
    "\n",
    "mesh.show_animation(fig, axes, box, advance_forward, fname='advance_forward.mp4', \n",
    "                    frames=nt+1, lw=2, interval=50, linestyle='--', color='red')\n",
    "plt.show()"
   ]
  },
  {
   "cell_type": "markdown",
   "id": "b36aa6b3",
   "metadata": {},
   "source": []
  },
  {
   "cell_type": "markdown",
   "id": "10673727",
   "metadata": {},
   "source": [
    "# 二维有限差分\n",
    "给定如下抛物方程问题：\n",
    "$$\\begin{cases}\n",
    "&\\dfrac{\\partial u}{\\partial t} - k\\left(\\dfrac{\\partial^2 u}{\\partial x^2} + \\dfrac{\\partial^2 u}{\\partial y^2}\\right) = -20e^{-20t}\\sin(4\\pi x)\\sin(4\\pi y) + 32\\pi^2e^{-20t}\\sin(4\\pi x)\\sin(4\\pi y),\\\\\n",
    "& u(x, 0, t) = 0,\\quad u(x, 1, t) = 0,\\\\\n",
    "& u(0, y, t) = 0,\\quad u(1, y, t) = 0,\\\\\n",
    "& u(x, y, 0) = u_0(x, y).\n",
    "\\end{cases}$$\n",
    "其中$k=1$。给定一个具体的真解：\n",
    "$$u(x, y, t) = \\sin(4\\pi x)\\sin(4\\pi y)e^{-20t}.$$"
   ]
  },
  {
   "cell_type": "markdown",
   "id": "f1f93ba4",
   "metadata": {},
   "source": []
  }
 ],
 "metadata": {
  "kernelspec": {
   "display_name": "Python 3 (ipykernel)",
   "language": "python",
   "name": "python3"
  },
  "language_info": {
   "codemirror_mode": {
    "name": "ipython",
    "version": 3
   },
   "file_extension": ".py",
   "mimetype": "text/x-python",
   "name": "python",
   "nbconvert_exporter": "python",
   "pygments_lexer": "ipython3",
   "version": "3.10.12"
  }
 },
 "nbformat": 4,
 "nbformat_minor": 5
}
