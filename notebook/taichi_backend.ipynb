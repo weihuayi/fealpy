{
 "cells": [
  {
   "cell_type": "code",
   "execution_count": 1,
   "id": "71c449a5-b055-4de6-b53c-be56aa695f46",
   "metadata": {},
   "outputs": [
    {
     "name": "stdout",
     "output_type": "stream",
     "text": [
      "[Taichi] version 1.7.1, llvm 15.0.4, commit 0f143b2f, linux, python 3.10.12\n",
      "[Taichi] Starting on arch=cuda\n"
     ]
    },
    {
     "name": "stderr",
     "output_type": "stream",
     "text": [
      "[I 06/16/24 08:42:54.652 791363] [shell.py:_shell_pop_print@23] Graphical python shell detected, using wrapped sys.stdout\n"
     ]
    }
   ],
   "source": [
    "import taichi as ti\n",
    "ti.init(arch=ti.cuda)"
   ]
  },
  {
   "cell_type": "code",
   "execution_count": 9,
   "id": "2242b7aa-f396-4575-9e3e-d53c2454d852",
   "metadata": {},
   "outputs": [
    {
     "data": {
      "text/plain": [
       "2"
      ]
     },
     "execution_count": 9,
     "metadata": {},
     "output_type": "execute_result"
    }
   ],
   "source": [
    "a = ti.field(dtype=ti.i32, shape=(10, 3))\n",
    "N = 3\n",
    "a.fill(10)\n",
    "len(a.shape)"
   ]
  },
  {
   "cell_type": "code",
   "execution_count": 15,
   "id": "10864134-0646-4268-b132-7402ecdedc66",
   "metadata": {},
   "outputs": [
    {
     "name": "stdout",
     "output_type": "stream",
     "text": [
      "[10 10 10 10 10 10 10 10 10 10 10 10 10 10 10 10 10 10 10 10 10 10 10 10\n",
      " 10 10 10 10 10 10]\n",
      "[ 0  3  6  9 12 15 18 21 24 27 30]\n"
     ]
    },
    {
     "data": {
      "text/plain": [
       "\u001b[0;31mType:\u001b[0m        NoneType\n",
       "\u001b[0;31mString form:\u001b[0m None\n",
       "\u001b[0;31mDocstring:\u001b[0m   <no docstring>"
      ]
     },
     "metadata": {},
     "output_type": "display_data"
    }
   ],
   "source": [
    "indices = ti.field(a.dtype, shape=(30,))\n",
    "indptr = ti.field(a.dtype, shape=(11, ))\n",
    "@ti.kernel\n",
    "def flatten_entity():\n",
    "    for i, j in a:\n",
    "        indices[i*N+ j] = a[i, j]\n",
    "\n",
    "@ti.kernel\n",
    "def fill_indptr():\n",
    "    for i in indptr:\n",
    "        indptr[i] = i*N\n",
    "\n",
    "flatten_entity()\n",
    "fill_indptr()\n",
    "print(indices)\n",
    "print(indptr)\n",
    "a.dual??"
   ]
  },
  {
   "cell_type": "markdown",
   "id": "877109de-e421-4fb2-8452-d1fa7c8cec39",
   "metadata": {},
   "source": [
    "# `functional` "
   ]
  },
  {
   "cell_type": "code",
   "execution_count": null,
   "id": "4a850aa2-dfc4-497c-b3c0-5ec788409256",
   "metadata": {},
   "outputs": [],
   "source": [
    "import numpy as np\n",
    "a = ti.field(dtype=ti.i32, shape=(5, 3))\n",
    "a.from_numpy(np.array([[1, 2, 3], [1, 2, 3], [2, 3, 4], [1, 2, 3], [2, 3, 4]]))\n",
    "\n",
    "unique_elements, indices, inverse_indices = unique(a, return_index=True, return_inverse=True)\n",
    "print(\"Unique elements:\")\n",
    "for i in range(unique_elements.shape[0]):\n",
    "    print([unique_elements[i, j] for j in range(unique_elements.shape[1])])\n",
    "print(\"Indices:\", [indices[i] for i in range(indices.shape[0])])\n",
    "print(\"Inverse indices:\", [inverse_indices[i] for i in range(inverse_indices.shape[0])])\n"
   ]
  }
 ],
 "metadata": {
  "kernelspec": {
   "display_name": "Python 3 (ipykernel)",
   "language": "python",
   "name": "python3"
  },
  "language_info": {
   "codemirror_mode": {
    "name": "ipython",
    "version": 3
   },
   "file_extension": ".py",
   "mimetype": "text/x-python",
   "name": "python",
   "nbconvert_exporter": "python",
   "pygments_lexer": "ipython3",
   "version": "3.10.12"
  }
 },
 "nbformat": 4,
 "nbformat_minor": 5
}
