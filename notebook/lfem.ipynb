{
 "cells": [
  {
   "cell_type": "markdown",
   "id": "f05f7ffd",
   "metadata": {},
   "source": [
    "# 拉格朗日有限元"
   ]
  },
  {
   "cell_type": "markdown",
   "id": "b06c95ea",
   "metadata": {},
   "source": [
    "下面给出任意次拉格朗日有限元，求解带混合边界条件的 Poisson 方程的算例。给定区域 $\\Omega\\subset \\mathbb{R}^m$，其边界 $\\partial\\Omega=\\Gamma_D\\cup\\Gamma_N\\cup\\Gamma_R$。经典的 Poisson 方程形式如下\n",
    "$$\n",
    "\\begin{aligned}-\\Delta u &= f,\\quad \\text{in}\\, \\Omega\\\\\n",
    "u&=g_D,\\quad \\text{on}\\,\\Gamma_D \\\\\n",
    "\\frac{\\partial u}{\\partial \\boldsymbol{n}}&=g_N,\\quad \\text{on}\\,\\Gamma_N \\\\\n",
    "\\frac{\\partial u}{\\partial \\boldsymbol{n}} + \\kappa u&=g_R,\\quad \\text{on}\\,\\Gamma_R \\end{aligned}\n",
    "$$\n",
    "其中 $\\Gamma_D$ 代表 Dirichlet 边界，$\\Gamma_N$ 代表 Neumann 边界，$\\Gamma_R$ 代表 Robin 边界。 在方程两端分别乘以测试函数 $v\\in H_{D,0}^1(\\Omega)$（在 $\\Gamma_D$ 上取值为 0 且函数及其导数都 $L^2$ 可积的函数空间），化原方程为积分形式：\n",
    "$$\n",
    "(\\nabla u,\\,\\nabla v)+<\\kappa \n",
    "u,\\,v>_{\\Gamma_R} = (f,\\,v)+<g_R,\\,v>_{\\Gamma_R}+<g_N,\\,v>_{\\Gamma_N}\n",
    "$$"
   ]
  },
  {
   "cell_type": "markdown",
   "id": "6ea643cc",
   "metadata": {},
   "source": [
    "下面以二维的 Poisson 方程为例来介绍编程过程。假定方程的真解为定义在单位正方形区域 $\\Omega = [0, 1]^2$ 二元函数\n",
    "$$u =\\cos(\\pi x)\\cos(\\pi y).$$\n",
    "进一步假定 Robin 边界条件中的参数为 $\\kappa=1$，则模型中的源项 $f$ 和边界源项 $g_N$ 和 $g_R$ 可相应推出。区域 $\\Omega$ 有上下左右四边边界，我们假定上下边界为 Dirichlet 边界， 右边界为 Neumann 边界，左边界为 Robin 边界。"
   ]
  },
  {
   "cell_type": "markdown",
   "id": "f02bab08",
   "metadata": {},
   "source": [
    "**第一步**，首先给出该 PDE 模型的代码实现，并建立相应的 PDE 对象。"
   ]
  },
  {
   "cell_type": "code",
   "execution_count": 2,
   "id": "23d4b278",
   "metadata": {},
   "outputs": [],
   "source": [
    "from fealpy.pde.poisson_2d import CosCosData\n",
    "\n",
    "pde = CosCosData()\n",
    "domain = pde.domain()"
   ]
  },
  {
   "cell_type": "markdown",
   "id": "22adabd4",
   "metadata": {},
   "source": [
    "**第二步**，生成网格，这里以 TriangleMesh 为例。"
   ]
  },
  {
   "cell_type": "code",
   "execution_count": 4,
   "id": "608c9306",
   "metadata": {},
   "outputs": [],
   "source": [
    "from fealpy.mesh import TriangleMesh\n",
    "mesh = TriangleMesh.from_box(domain, nx=100, ny=100)"
   ]
  },
  {
   "cell_type": "markdown",
   "id": "4f144cba",
   "metadata": {},
   "source": [
    "**第三步**，导入拉格朗日有有限元空间，并建立 $p$ 次拉格朗日有限元空间对象。"
   ]
  },
  {
   "cell_type": "code",
   "execution_count": 5,
   "id": "f01097fa",
   "metadata": {},
   "outputs": [],
   "source": [
    "from fealpy.functionspace import LagrangeFESpace\n",
    "p = 1 # 空间次数\n",
    "space = LagrangeFESpace(mesh, p=p)"
   ]
  },
  {
   "cell_type": "markdown",
   "id": "6bfb75b7",
   "metadata": {},
   "source": [
    "**第四步**，导入双线性型 BilnearForm  以及 Laplace 积分子和 Robin 边界积分子，并组装离散矩阵。"
   ]
  },
  {
   "cell_type": "code",
   "execution_count": 6,
   "id": "9791c5c8",
   "metadata": {},
   "outputs": [],
   "source": [
    "from fealpy.fem import BilinearForm\n",
    "from fealpy.fem import ScalarLaplaceIntegrator      # (\\nabla u, \\nabla v) \n",
    "from fealpy.fem import ScalarRobinBoundaryIntegrator  # <kappa*u, v>\n",
    "\n",
    "bform = BilinearForm(space)\n",
    "# (\\nabla u, \\nabla v)\n",
    "bform.add_domain_integrator(ScalarLaplaceIntegrator(q=p+2)) \n",
    "# <kappa u, v>\n",
    "rbi = ScalarRobinBoundaryIntegrator(pde.kappa,\n",
    "        threshold=pde.is_robin_boundary, q=p+2)\n",
    "bform.add_boundary_integrator(rbi) \n",
    "A = bform.assembly()"
   ]
  },
  {
   "cell_type": "markdown",
   "id": "cbb9c46c",
   "metadata": {},
   "source": [
    "**第五步**， 导入线性型 LinearForm 以及区域源项、Neumann 和 Robin 边界源项的积分子，并组装右端矩阵向量。"
   ]
  },
  {
   "cell_type": "code",
   "execution_count": 7,
   "id": "aa76d023",
   "metadata": {},
   "outputs": [],
   "source": [
    "from fealpy.fem import LinearForm\n",
    "from fealpy.fem import ScalarSourceIntegrator         # (f, v)\n",
    "from fealpy.fem import ScalarNeumannSourceIntegrator  # <g_N, v>\n",
    "from fealpy.fem import ScalarRobinSourceIntegrator    # <g_R, v>\n",
    "\n",
    "lform = LinearForm(space)\n",
    "# (f, v)\n",
    "si = ScalarSourceIntegrator(pde.source, q=p+2)\n",
    "lform.add_domain_integrator(si)\n",
    "# <g_R, v> \n",
    "rsi = ScalarRobinSourceIntegrator(pde.robin, \n",
    "           threshold=pde.is_robin_boundary, q=p+2)\n",
    "lform.add_boundary_integrator(rsi)\n",
    "# <g_N, v>\n",
    "nsi = ScalarNeumannSourceIntegrator(pde.neumann, \n",
    "            threshold=pde.is_neumann_boundary, q=p+2)\n",
    "lform.add_boundary_integrator(nsi)\n",
    "F = lform.assembly()"
   ]
  },
  {
   "cell_type": "markdown",
   "id": "a87f84ea",
   "metadata": {},
   "source": [
    "**第六步**，导入并处理 Dirichlet 边界条件，并求解计算误差。"
   ]
  },
  {
   "cell_type": "code",
   "execution_count": 8,
   "id": "4455385a",
   "metadata": {},
   "outputs": [],
   "source": [
    "from fealpy.fem import DirichletBC\n",
    "\n",
    "# Dirichlet 边界条件\n",
    "bc = DirichletBC(space, \n",
    "      pde.dirichlet, threshold=pde.is_dirichlet_boundary) \n",
    "uh = space.function() \n",
    "A, F = bc.apply(A, F, uh)"
   ]
  },
  {
   "cell_type": "markdown",
   "id": "d7085fdc",
   "metadata": {},
   "source": [
    "**第七步**，导入多重网格解法器，求解并计算误差。"
   ]
  },
  {
   "cell_type": "code",
   "execution_count": 10,
   "id": "11dc2479",
   "metadata": {},
   "outputs": [
    {
     "name": "stdout",
     "output_type": "stream",
     "text": [
      "run setup with time: 0.04326722199948563\n",
      "iter   1\n",
      "iter   2\n",
      "iter   3\n",
      "iter   4\n",
      "iter   5\n",
      "iter   6\n",
      "iter   7\n",
      "iter   8\n",
      "iter   9\n",
      "iter  10\n",
      "0\n",
      "run solve with time: 1.5513344810005947\n",
      "L2Error: 0.00011937504415731966\n",
      "H1Error: 0.034891662108901975\n"
     ]
    }
   ],
   "source": [
    "from fealpy.solver import GAMGSolver # 几何、代数多重网格解法器\n",
    "\n",
    "solver = GAMGSolver(ptype='W', sstep=3)\n",
    "solver.setup(A) # 纯代数多重网格\n",
    "# solver.setup(A, space=space, cdegree=[1, 3]) # 高次到低次空间的限制+代数多重网格\n",
    "uh[:] = solver.solve(F)\n",
    "\n",
    "L2Error = mesh.error(pde.solution, uh, q=p+2)\n",
    "H1Error = mesh.error(pde.gradient, uh.grad_value, q=p+2)\n",
    "print('L2Error:', L2Error)\n",
    "print('H1Error:', H1Error)"
   ]
  },
  {
   "cell_type": "code",
   "execution_count": null,
   "id": "34c0e4df",
   "metadata": {},
   "outputs": [],
   "source": []
  }
 ],
 "metadata": {
  "kernelspec": {
   "display_name": "Python 3 (ipykernel)",
   "language": "python",
   "name": "python3"
  },
  "language_info": {
   "codemirror_mode": {
    "name": "ipython",
    "version": 3
   },
   "file_extension": ".py",
   "mimetype": "text/x-python",
   "name": "python",
   "nbconvert_exporter": "python",
   "pygments_lexer": "ipython3",
   "version": "3.10.12"
  }
 },
 "nbformat": 4,
 "nbformat_minor": 5
}
