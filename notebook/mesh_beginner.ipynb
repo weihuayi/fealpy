{
 "cells": [
  {
   "cell_type": "markdown",
   "id": "31c18ca6-239a-46c1-a811-4fca55307cc3",
   "metadata": {},
   "source": [
    "# 网格模块入门"
   ]
  },
  {
   "cell_type": "markdown",
   "id": "ea4a15da-729e-44d2-aaa3-8ac36926674c",
   "metadata": {},
   "source": [
    "An introduction of the mesh module in FEALPy"
   ]
  },
  {
   "cell_type": "markdown",
   "id": "0b3abf6b-3698-4642-8f52-4b1948dda2f5",
   "metadata": {},
   "source": [
    "## 一、简介\n",
    "\n",
    "网格是偏微分方程数值离散方法的基础，设计功能完善、易于使用的网格数据结构是一个偏微分方程数值解软件包成功的关键。FEALPy 开源软件包中的网格模块以面向对象、数组化编程的方式实现了多种常用网格的表示、存储，为各类数值方法（如 FEM、FDM）提供了标准统一的接口。因此称网格模块是 FEALPy 的核心。"
   ]
  },
  {
   "cell_type": "markdown",
   "id": "7771818a-013c-4bf9-b5eb-6bbc26c10c5b",
   "metadata": {},
   "source": [
    "### 当前支持的网格类型\n",
    "\n",
    "|**网格名称**|**在 FEALPy 中的类名**|**分类或继承**|\n",
    "|----|----|----|\n",
    "|区间网格|`IntervalMesh`|非结构网格，同质网格|\n",
    "|三角形网格|`TriangleMesh`|非结构网格，同质网格|\n",
    "|四边形网格|`QuadrangleMesh`|非结构网格，同质网格|\n",
    "|四面体网格|`TetrahedronMesh`|非结构网格，同质网格|\n",
    "|六面体网格|`HexahedronMesh`|非结构网格，同质网格|\n",
    "|多边形网格|`PolygonMesh`|非结构网格，非同质网格|\n",
    "|一维均匀网格|`UniformMesh1d`|结构网格|\n",
    "|二维均匀网格|`UniformMesh2d`|结构网格|\n",
    "|三维均匀网格|`UniformMesh3d`|结构网格|\n",
    "|一维单元网格|`EdgeMesh`|非结构网格，同质网格|\n",
    "|二维半边网格|`HalfEdgeMesh2d`|表示半边数据结构|\n",
    "|三角树网格|`Tritree`|`TriangleMesh`|\n",
    "|四叉树网格|`Quadtree`|`QuadrangleMesh`|\n",
    "|八叉树网格|`Octree`|`HexahedronMesh`|"
   ]
  },
  {
   "cell_type": "markdown",
   "id": "9a9c75f4-aab8-433b-b1a5-5981bb69cf2e",
   "metadata": {},
   "source": [
    "### 相关术语约定\n",
    "\n",
    "1. 网格实体\n",
    "\n",
    "|实体名称|解释|\n",
    "|----|----|\n",
    "|node|节点，其拓扑维数为 0|\n",
    "|edge|边，其拓扑维数为 1|\n",
    "|face|面，网格中的次高维实体|\n",
    "|cell|单元，网格中的最高维实体|\n",
    "\n",
    "> 拓扑维数为 2 时，`edge` 和 `face` 指代同一类实体。\n",
    "\n",
    "2. 常用变量\n",
    "\n",
    "|记号|解释|\n",
    "|----|----|\n",
    "|`NN`|网格节点的数量|\n",
    "|`NE`|网格边的数量|\n",
    "|`NF`|网格面的数量|\n",
    "|`NC`|网格单元的数量|\n",
    "|`NVC`|网格单元的数量|\n",
    "|`GD`|网格的几何维数|\n",
    "|`TD`|网格的拓扑维数|\n"
   ]
  },
  {
   "cell_type": "markdown",
   "id": "4659eb0d-2203-4135-bb32-a9cc9a22ba69",
   "metadata": {},
   "source": [
    "## 二、快速使用\n",
    "\n",
    "### 创建\n",
    "多数网格中提供了`from_xxx()`方法，用于快速创建网格。例如，在二维区域$$[-1, 1]\\times[-1, 1]$$中创建一个三角形网格："
   ]
  },
  {
   "cell_type": "code",
   "execution_count": null,
   "id": "a073598d-d650-4991-91c7-d805d12a1ba6",
   "metadata": {
    "tags": []
   },
   "outputs": [],
   "source": [
    "from fealpy.mesh import TriangleMesh\n",
    "\n",
    "mesh = TriangleMesh.from_box([-1, 1, -1, 1], nx=3, ny=3)"
   ]
  },
  {
   "cell_type": "markdown",
   "id": "d2043e56-9d1d-4759-8232-6b03f6ba45ce",
   "metadata": {},
   "source": [
    "### 可视化\n",
    "所有继承自`Plotable`的网格类均可通过`add_plot`方法实现基于 matplotlib 的可视化；也可通过`find_<entity>`系列方法，标注相应网格实体的位置和编号。"
   ]
  },
  {
   "cell_type": "code",
   "execution_count": null,
   "id": "8ad71a46-8dab-488a-9d59-9e8d4cbc9200",
   "metadata": {
    "tags": []
   },
   "outputs": [],
   "source": [
    "from matplotlib import pyplot as plt\n",
    "fig = plt.figure()\n",
    "axes = fig.add_subplot()\n",
    "mesh.add_plot(axes)\n",
    "mesh.find_node(axes, showindex=True)\n",
    "mesh.find_cell(axes, showindex=True)\n",
    "plt.show()"
   ]
  },
  {
   "cell_type": "markdown",
   "id": "5b72ee9d-213a-4b11-a82f-c5a3ad594784",
   "metadata": {},
   "source": [
    "### 获取网格实体\n",
    "通过 `mesh.entity` 方法可以获得指定网格实体的数据，例如每个节点的坐标："
   ]
  },
  {
   "cell_type": "code",
   "execution_count": null,
   "id": "b5febb6e-bc9d-4d7e-b81e-630a7bd78286",
   "metadata": {
    "tags": []
   },
   "outputs": [],
   "source": [
    "node = mesh.entity('node')\n",
    "node"
   ]
  },
  {
   "cell_type": "markdown",
   "id": "838feb66-259e-4af7-b291-d4b6e5c4536d",
   "metadata": {},
   "source": [
    "又如，获得构成每个单元的节点的全局编号："
   ]
  },
  {
   "cell_type": "code",
   "execution_count": null,
   "id": "3c7993ee-dc8a-4f9e-b5c8-12c4ebca0355",
   "metadata": {
    "tags": []
   },
   "outputs": [],
   "source": [
    "cell = mesh.entity('cell')\n",
    "cell"
   ]
  },
  {
   "cell_type": "markdown",
   "id": "2e58db8a-ccde-4c01-95e4-85ff2a2248bd",
   "metadata": {
    "tags": []
   },
   "source": [
    "不妨与上面的图形相互印证结果。以上的 `node` 和 `cell` 数组是多数非结构网格最为基础的数据结构——存储每个单元的位置，和每个单元构成节点的全局编号。在最一般的情形下，我们通过 node 和 cell 数据来确定一个网格，如下："
   ]
  },
  {
   "cell_type": "code",
   "execution_count": null,
   "id": "f8de9aec-76fd-4d08-8428-505fc84d555d",
   "metadata": {
    "tags": []
   },
   "outputs": [],
   "source": [
    "mesh_copy = TriangleMesh(node, cell)"
   ]
  },
  {
   "cell_type": "markdown",
   "id": "e3402d6d-258b-492e-a671-c1226f538b82",
   "metadata": {
    "tags": []
   },
   "source": [
    "此 `mesh_copy` 网格使用的 node 和 cell 数据来自前面的网格 `mesh`，因此它们是完全一样的网格（但不是同一个 Python 对象）——我们创建了一个拷贝版本。以下是部分网格在初始化中使用的数据结构总结：\n",
    "\n",
    "|类型|基础数据结构|解释|\n",
    "|----|----|----|\n",
    "|非结构网格，同质网格|node, cell|节点位置，单元构成节点的编号|\n",
    "|非结构网格，非同质网格|node, cell, cellLocation|节点位置，单元构成节点的编号（扁平化），每个单元在 cell 中的起始位置|\n",
    "|均匀网格|extent, h, origin|范围，步长，原点位置|\n"
   ]
  },
  {
   "cell_type": "markdown",
   "id": "97ef0ea6-890b-4ac6-91e1-5311694f7c28",
   "metadata": {},
   "source": [
    "## 三、常用方法"
   ]
  },
  {
   "cell_type": "markdown",
   "id": "c2a58587-1393-4ef2-85a1-73fa26342756",
   "metadata": {},
   "source": [
    "### 实体的重心和测度\n",
    "1. 通过 `mesh.entity_barycenter` 方法获得网格中指定类型实体的重心的位置；\n",
    "2. 通过 `mesh.entity_measure` 方法获得网格中指定实体的度量值。"
   ]
  },
  {
   "cell_type": "markdown",
   "id": "cee86739-a907-4a71-96f6-07c83fc148d1",
   "metadata": {},
   "source": [
    "### 实体计数\n",
    "通过 `number_of_<entity>` 系列方法获得相应实体的数量。"
   ]
  },
  {
   "cell_type": "code",
   "execution_count": null,
   "id": "aed42801-6ad5-44de-b25e-bb501920557b",
   "metadata": {},
   "outputs": [],
   "source": []
  }
 ],
 "metadata": {
  "kernelspec": {
   "display_name": "Python 3 (ipykernel)",
   "language": "python",
   "name": "python3"
  },
  "language_info": {
   "codemirror_mode": {
    "name": "ipython",
    "version": 3
   },
   "file_extension": ".py",
   "mimetype": "text/x-python",
   "name": "python",
   "nbconvert_exporter": "python",
   "pygments_lexer": "ipython3",
   "version": "3.10.12"
  }
 },
 "nbformat": 4,
 "nbformat_minor": 5
}
