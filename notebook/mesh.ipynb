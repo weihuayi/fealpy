{
 "cells": [
  {
   "cell_type": "markdown",
   "id": "46acf2d6",
   "metadata": {},
   "source": [
    "# 网格模块进阶"
   ]
  },
  {
   "cell_type": "markdown",
   "id": "bb628377",
   "metadata": {},
   "source": []
  },
  {
   "cell_type": "markdown",
   "id": "3538c537",
   "metadata": {},
   "source": [
    "## 一、网格常用接口"
   ]
  },
  {
   "cell_type": "markdown",
   "id": "5513084d",
   "metadata": {},
   "source": [
    "### 1. 网格对象构造与可视化"
   ]
  },
  {
   "cell_type": "code",
   "execution_count": 8,
   "id": "f9f8e3ce",
   "metadata": {},
   "source": [
    "import numpy as np\n",
    "import matplotlib.pyplot as plt\n",
    "%matplotlib inline\n",
    "from fealpy.mesh import TriangleMesh\n",
    "node = np.array([\n",
    "    [0, 0],  # 0\n",
    "    [1, 0],  # 1\n",
    "    [1, 1],  # 2\n",
    "    [0, 1]], # 3\n",
    "    dtype=np.float64)\n",
    "\n",
    "cell = np.array([\n",
    "    [1, 2, 0],  # 0\n",
    "    [3, 0, 2]], # 1\n",
    "    dtype=np.int_)\n",
    "mesh = TriangleMesh(node, cell)\n",
    "\n",
    "fig, axes = plt.subplots()\n",
    "mesh.add_plot(axes, cellcolor='g')\n",
    "mesh.find_node(axes, showindex=True,\n",
    "              color='r', marker='o', fontsize=15, fontcolor='r')\n",
    "mesh.find_edge(axes, showindex=True,\n",
    "              color='b', marker='v', fontsize=20, fontcolor='b')\n",
    "mesh.find_cell(axes, showindex=True,\n",
    "              color='k', marker='s', fontsize=25, fontcolor='k')\n",
    "plt.show()"
   ],
   "outputs": []
  },
  {
   "cell_type": "markdown",
   "id": "8d3f4659",
   "metadata": {},
   "source": [
    "### 2. 获取网格实体数组及相关几何信息"
   ]
  },
  {
   "cell_type": "markdown",
   "id": "ac3c5c33",
   "metadata": {},
   "source": [
    "* 获取实体数组与计数"
   ]
  },
  {
   "cell_type": "code",
   "execution_count": null,
   "id": "e3b1796a",
   "metadata": {},
   "source": [
    "import matplotlib.pyplot as plt\n",
    "from fealpy.mesh import TriangleMesh\n",
    "mesh = TriangleMesh.from_box([0, 1, 0, 1], nx=1, ny=1)\n",
    "\n",
    "node = mesh.entity('node') # (NN, GD)\n",
    "edge = mesh.entity('edge') # (NE, 2)\n",
    "face = mesh.entity('face') # (NF, 2)\n",
    "cell = mesh.entity('cell') # (NC, 3)\n",
    "\n",
    "NN = mesh.number_of_nodes()\n",
    "NE = mesh.number_of_edges()\n",
    "NF = mesh.number_of_faces()\n",
    "NC = mesh.number_of_cells()"
   ],
   "outputs": []
  },
  {
   "cell_type": "markdown",
   "id": "34384174",
   "metadata": {},
   "source": [
    "> 注意，`mesh` 会基于 cell 数组自动生成 `edge` 或 `face` 数组\n",
    "> 区域边界上的 edge 或 face 定向约定为**其法向指向区域外部**"
   ]
  },
  {
   "cell_type": "markdown",
   "id": "24e7f4f0",
   "metadata": {},
   "source": [
    "* 获取实体的重心"
   ]
  },
  {
   "cell_type": "code",
   "execution_count": null,
   "id": "80ce1fbe",
   "metadata": {},
   "source": [
    "bc = mesh.entity_barycenter('cell')\n",
    "be = mesh.entity_barycenter('edge')"
   ],
   "outputs": []
  },
  {
   "cell_type": "markdown",
   "id": "f5264ff1",
   "metadata": {},
   "source": [
    "* 获取切向和法向\n",
    "> 在一些向量、张量有限元构造以及边界条件处理里需要这些信息"
   ]
  },
  {
   "cell_type": "code",
   "execution_count": null,
   "id": "e4e2ac42",
   "metadata": {},
   "source": [
    "t = mesh.edge_tangent() # (NE, 2)\n",
    "n = mesh.edge_normal() # (NE, 2)\n",
    "\n",
    "ut = mesh.edge_unit_tangent()\n",
    "un = mesh.edge_unit_normal()"
   ],
   "outputs": []
  },
  {
   "cell_type": "markdown",
   "id": "2b235464",
   "metadata": {},
   "source": [
    "* 获取网格实体测度"
   ]
  },
  {
   "cell_type": "code",
   "execution_count": 5,
   "id": "4a18cd05",
   "metadata": {},
   "source": [
    "h = mesh.entity_measure('edge')\n",
    "area = mesh.entity_measure('cell')\n",
    "qf = mesh.integrator(3)"
   ],
   "outputs": []
  },
  {
   "cell_type": "markdown",
   "id": "505e064a",
   "metadata": {},
   "source": [
    "### 3. 获取网格实体的拓扑关系"
   ]
  },
  {
   "cell_type": "code",
   "execution_count": 1,
   "id": "84e1fc42",
   "metadata": {},
   "source": [
    "import matplotlib.pyplot as plt\n",
    "from fealpy.mesh import TriangleMesh\n",
    "mesh = TriangleMesh.from_box([0, 1, 0, 1], nx=1, ny=1)\n",
    "\n",
    "NE = mesh.number_of_edges()\n",
    "edge2cell = mesh.ds.edge_to_cell()\n",
    "fig, axes = plt.subplots()\n",
    "mesh.add_plot(axes, cellcolor='g')\n",
    "mesh.find_node(axes, showindex=True,\n",
    "              color='r', marker='o', fontsize=15, fontcolor='r')\n",
    "mesh.find_edge(axes, showindex=True,\n",
    "              color='b', marker='v', fontsize=17, fontcolor='b')\n",
    "mesh.find_cell(axes, showindex=True,\n",
    "              color='k', marker='s', fontsize=19, fontcolor='k')\n",
    "print('edge2cell:\\n', edge2cell)"
   ],
   "outputs": []
  },
  {
   "cell_type": "markdown",
   "id": "d3695e71",
   "metadata": {},
   "source": [
    "* `face2cell[i, 0]` 第 `i` 条边的左边单元全局编号\n",
    "* `face2cell[i, 1]` 第 `i` 条边的右边单元全局编号\n",
    "* `face2cell[i, 2]` 第 `i` 条边在左边单元中的局部编号\n",
    "* `face2cell[i, 3]` 第 `i` 条边在右边单元中的局部编号\n",
    "* 如果第 `i` 条边是边界边，则 \n",
    "    - `face2cell[i, 0] == face2cell[i, 1]`\n",
    "    - `face2cell[i, 2] == face2cell[i, 3]`"
   ]
  },
  {
   "cell_type": "code",
   "execution_count": null,
   "id": "d5ed6d26",
   "metadata": {},
   "source": [
    "cell2edge = mesh.ds.cell_to_edge()\n",
    "node2node = mesh.ds.node_to_node()\n",
    "node2cell = mesh.ds.node_to_cell()\n",
    "cell2cell = mesh.ds.cell_to_cell()"
   ],
   "outputs": []
  },
  {
   "cell_type": "markdown",
   "id": "5e3e7332",
   "metadata": {},
   "source": [
    "### 4. 获取网格边界标记"
   ]
  },
  {
   "cell_type": "markdown",
   "id": "c7f8d7e3",
   "metadata": {},
   "source": [
    "* 各种数值离散方法经常需要获取边界上的网格实体"
   ]
  },
  {
   "cell_type": "code",
   "execution_count": null,
   "id": "7143d068",
   "metadata": {},
   "source": [
    "isBdNode = mesh.ds.boundary_node_flag()\n",
    "isBdEdge = mesh.ds.boundary_edge_flag()\n",
    "isBdFace = mesh.ds.boundary_face_flag()\n",
    "isBdCell = mesh.ds.boundary_cell_flag()\n",
    "nidx = mesh.ds.boundary_node_index()\n",
    "eidx = mesh.ds.boundary_edge_index()\n",
    "fidx = mesh.ds.boundary_face_index()\n",
    "cidx = mesh.ds.boundary_cell_index()"
   ],
   "outputs": []
  },
  {
   "cell_type": "markdown",
   "id": "f727a685",
   "metadata": {},
   "source": [
    "### 5. 网格插值点管理"
   ]
  },
  {
   "cell_type": "code",
   "execution_count": 8,
   "id": "73865a46",
   "metadata": {},
   "source": [
    "import matplotlib.pyplot as plt\n",
    "from fealpy.mesh import TriangleMesh\n",
    "mesh = TriangleMesh.from_box([0, 1, 0, 1], nx=1, ny=1)\n",
    "p = 3\n",
    "ipoint = mesh.interpolation_points(p) # p 次插值点的坐标\n",
    "cell2ipoint = mesh.cell_to_ipoint(p)  # 单元到 p 次插值点的映射矩阵\n",
    "edge2ipoint = mesh.edge_to_ipoint(p) \n",
    "np = mesh.number_of_local_ipoints(p)  # 矩阵插值点的个数\n",
    "NP = mesh.number_of_global_ipoints(p) # 全局插值点的个数\n",
    "fig, axes= plt.subplots()\n",
    "mesh.add_plot(axes)\n",
    "mesh.find_node(axes, node=ipoint, showindex=True)\n",
    "print('局部插值点个数：', np)\n",
    "print('全局插值点个数：', NP)\n",
    "print('cell2ipoint = \\n', cell2ipoint)"
   ],
   "outputs": []
  },
  {
   "cell_type": "markdown",
   "id": "4503abf9",
   "metadata": {},
   "source": [
    "## 二、网格生成示例"
   ]
  },
  {
   "cell_type": "markdown",
   "id": "a67b7fa4",
   "metadata": {},
   "source": [
    "### 均匀笛卡尔网格 "
   ]
  },
  {
   "cell_type": "markdown",
   "id": "7e1f1eac",
   "metadata": {},
   "source": [
    "* 一维均匀网格 `UniformMesh1d`"
   ]
  },
  {
   "cell_type": "code",
   "execution_count": 12,
   "id": "137fc746",
   "metadata": {},
   "source": [
    "import numpy as np\n",
    "import matplotlib.pyplot as plt\n",
    "from fealpy.mesh import UniformMesh1d\n",
    "\n",
    "domain = [0.0, 1.0]\n",
    "nx = 5\n",
    "hx = (domain[1] - domain[0])/nx\n",
    "mesh = UniformMesh1d([0, nx], h=hx, origin=domain[0])\n",
    "node = mesh.entity('node')\n",
    "cell = mesh.entity('cell')\n",
    "fig, axes = plt.subplots()\n",
    "mesh.add_plot(axes)\n",
    "mesh.find_node(axes, showindex=True)\n",
    "mesh.find_cell(axes, showindex=True)\n",
    "plt.show()"
   ],
   "outputs": []
  },
  {
   "cell_type": "markdown",
   "id": "8493d460",
   "metadata": {},
   "source": [
    "* 二维均匀网格 UniformMesh2d"
   ]
  },
  {
   "cell_type": "code",
   "execution_count": 14,
   "id": "e29d8694",
   "metadata": {},
   "source": [
    "from fealpy.mesh import UniformMesh2d\n",
    "domain = [0.0, 1.0, 0.0, 1.0]\n",
    "nx = 5\n",
    "ny = 5\n",
    "hx = (domain[1] - domain[0])/nx\n",
    "hy = (domain[3] - domain[2])/ny\n",
    "mesh = UniformMesh2d(\n",
    "    [0, nx, 0, ny], \n",
    "    h=(hx, hy), \n",
    "    origin=(domain[0], domain[2]))\n",
    "fig, axes = plt.subplots()\n",
    "mesh.add_plot(axes)\n",
    "mesh.find_node(axes, showindex=True)\n",
    "mesh.find_cell(axes, showindex=True)\n",
    "plt.show()"
   ],
   "outputs": []
  },
  {
   "cell_type": "markdown",
   "id": "7bcf6785",
   "metadata": {},
   "source": [
    "* 三维均匀网格"
   ]
  },
  {
   "cell_type": "code",
   "execution_count": 15,
   "id": "3de77871",
   "metadata": {},
   "source": [
    "from fealpy.mesh import UniformMesh3d\n",
    "from mpl_toolkits.mplot3d import Axes3D\n",
    "\n",
    "domain = [0.0, 1.0, 0.0, 1.0, 0.0, 1.0]\n",
    "nx = 5\n",
    "ny = 5\n",
    "nz = 5\n",
    "hx = (domain[1] - domain[0])/nx\n",
    "hy = (domain[3] - domain[2])/ny\n",
    "hz = (domain[5] - domain[4])/nz\n",
    "mesh = UniformMesh3d(\n",
    "    [0, nx, 0, ny, 0, nz], \n",
    "    h=(hx, hy, hz), \n",
    "    origin=(domain[0], domain[2], domain[3]))\n",
    "fig = plt.figure()\n",
    "axes = fig.add_subplot(111, projection='3d')\n",
    "mesh.add_plot(axes)\n",
    "plt.show()"
   ],
   "outputs": []
  },
  {
   "cell_type": "markdown",
   "id": "77255988",
   "metadata": {},
   "source": [
    "### 一维区间网格"
   ]
  },
  {
   "cell_type": "code",
   "execution_count": 2,
   "id": "1e6cb652",
   "metadata": {},
   "source": [
    "import numpy as np\n",
    "import matplotlib.pyplot as plt\n",
    "from fealpy.mesh import IntervalMesh\n",
    "\n",
    "node = np.array([[0], [0.5], [1]], dtype=np.float64) # (NN, 1) array\n",
    "cell = np.array([[0, 1], [1, 2]], dtype=np.int_) # (NN, 2) array\n",
    "mesh = IntervalMesh(node, cell)\n",
    "mesh.uniform_refine(n=2)\n",
    "fig = plt.figure()\n",
    "axes = fig.gca()\n",
    "mesh.add_plot(axes)\n",
    "mesh.find_node(axes, showindex=True)\n",
    "mesh.find_cell(axes, showindex=True)\n",
    "plt.show()"
   ],
   "outputs": []
  },
  {
   "cell_type": "markdown",
   "id": "ebd2a65d",
   "metadata": {},
   "source": [
    "`IntervalMesh` 可以表示嵌入到高维空间的一维网格，如："
   ]
  },
  {
   "cell_type": "code",
   "execution_count": 17,
   "id": "c150284f",
   "metadata": {},
   "source": [
    "import numpy as np\n",
    "import matplotlib.pyplot as plt\n",
    "from fealpy.mesh import IntervalMesh\n",
    "\n",
    "node = np.array([\n",
    "    [0.0, 0.0],\n",
    "    [1.0, 0.0],\n",
    "    [1.0, 1.0],\n",
    "    [0.0, 1.0]], dtype=np.float64) # (NN, 2)\n",
    "cell = np.array([\n",
    "    [0, 1], [1, 2], [2, 3], [3, 0]\n",
    "], dtype=np.int_) # (NC, 2) array\n",
    "\n",
    "mesh = IntervalMesh(node, cell)\n",
    "mesh.uniform_refine(n=2)\n",
    "mesh.entity('node')\n",
    "l = mesh.entity_measure('node')\n",
    "bc = mesh.entity_barycenter('cell')\n",
    "fig = plt.figure()\n",
    "axes = fig.gca()\n",
    "mesh.add_plot(axes)\n",
    "mesh.find_node(axes, showindex=True)\n",
    "mesh.find_cell(axes, showindex=True)\n",
    "plt.show()"
   ],
   "outputs": []
  },
  {
   "cell_type": "markdown",
   "id": "a9a5e229",
   "metadata": {},
   "source": [
    "### 非结构三角形网格 TriangleMesh"
   ]
  },
  {
   "cell_type": "code",
   "execution_count": 5,
   "id": "07eeab3a",
   "metadata": {},
   "source": [
    "import numpy as np\n",
    "import matplotlib.pyplot as plt\n",
    "from fealpy.mesh import TriangleMesh\n",
    "\n",
    "i = 4\n",
    "if i == 0:\n",
    "    mesh = TriangleMesh.from_one_triangle(meshtype='equ')\n",
    "    mesh.uniform_refine(n=3)\n",
    "\n",
    "if i == 1:\n",
    "    mesh = TriangleMesh.from_unit_square(nx=5, ny=5)\n",
    "\n",
    "if i == 2:\n",
    "    def threshold(p):\n",
    "        x = p[..., 0]\n",
    "        y = p[..., 1]\n",
    "        return (x > 0.0) & (y < 0.0)\n",
    "    mesh = TriangleMesh.from_box(box=[-1, 1, -1, 1], \n",
    "                                 threshold=threshold)\n",
    "if i == 3:\n",
    "    mesh = TriangleMesh.from_unit_circle_gmsh(0.1)\n",
    "\n",
    "if i == 4:\n",
    "    vertices = np.array([(0, 0), (1, 0), (0.5, 1)])\n",
    "    h = 0.1\n",
    "    mesh = TriangleMesh.from_polygon_gmsh(vertices, h)\n",
    "\n",
    "node = mesh.entity('node')\n",
    "edge = mesh.entity('edge')\n",
    "cell = mesh.entity('cell')\n",
    "\n",
    "n = mesh.face_unit_normal()\n",
    "\n",
    "edge2cell = mesh.ds.edge_to_cell()\n",
    "\n",
    "area = mesh.entity_measure('cell')\n",
    "bc = mesh.entity_barycenter('cell')\n",
    "c = mesh.circumcenter()\n",
    "\n",
    "fig, axes = plt.subplots()\n",
    "mesh.add_plot(axes)\n",
    "plt.show()"
   ],
   "outputs": []
  },
  {
   "cell_type": "markdown",
   "id": "44a540cd",
   "metadata": {},
   "source": [
    "下面给出基于 distmesh 算法生成三角形网格的示例。"
   ]
  },
  {
   "cell_type": "code",
   "execution_count": 7,
   "id": "866c9463",
   "metadata": {},
   "source": [
    "import numpy as np\n",
    "import matplotlib.pyplot as plt\n",
    "from fealpy.geometry import LShapeDomain, CircleDomain\n",
    "from fealpy.mesh import TriangleMesh\n",
    "\n",
    "i = 1\n",
    "if i == 0:\n",
    "    domain = LShapeDomain()\n",
    "    hmin = 0.1\n",
    "\n",
    "if i == 1:\n",
    "    hmin = 0.05\n",
    "    hmax = .2\n",
    "    def sizing_function(p, *args):\n",
    "        fd = args[0]\n",
    "        x = p[:, 0]\n",
    "        y = p[:, 1]\n",
    "        h = hmin + np.abs(fd(p))*0.1\n",
    "        h[h>hmax] = hmax \n",
    "        return h\n",
    "    domain = CircleDomain(fh=sizing_function)\n",
    "    \n",
    "mesh = TriangleMesh.from_domain_distmesh(\n",
    "    domain, hmin, maxit=100)\n",
    "fig, axes = plt.subplots()\n",
    "mesh.add_plot(axes)\n",
    "plt.show()"
   ],
   "outputs": []
  },
  {
   "cell_type": "markdown",
   "id": "d5c6814b",
   "metadata": {},
   "source": [
    "`TriangleMesh` 可以表示嵌入到三维空间的三角形网格"
   ]
  },
  {
   "cell_type": "code",
   "execution_count": 8,
   "id": "0021366f",
   "metadata": {},
   "source": [
    "import numpy as np\n",
    "import matplotlib.pyplot as plt\n",
    "from mpl_toolkits.mplot3d import Axes3D\n",
    "from fealpy.mesh import TriangleMesh\n",
    "\n",
    "i = 1\n",
    "if i == 0:\n",
    "    mesh = TriangleMesh.from_torus_surface(5, 1, 30, 30)\n",
    "elif i == 1:\n",
    "    mesh = TriangleMesh.from_unit_sphere_surface(refine=3)\n",
    "\n",
    "fig = plt.figure()\n",
    "axes = fig.add_subplot(111, projection='3d')\n",
    "mesh.add_plot(axes)\n",
    "plt.show()"
   ],
   "outputs": []
  },
  {
   "cell_type": "markdown",
   "id": "d9cfa6da",
   "metadata": {},
   "source": [
    "`TriangleMesh` 还提供了一此类方法，帮助用户理解三角形网格上的形函数"
   ]
  },
  {
   "cell_type": "code",
   "execution_count": 1,
   "id": "879d4021",
   "metadata": {},
   "source": [
    "from fealpy.mesh import TriangleMesh    \n",
    "TriangleMesh.show_lattice(4)\n",
    "TriangleMesh.show_shape_function(4, funtype='L')\n",
    "TriangleMesh.show_grad_shape_function(4, funtype='L')"
   ],
   "outputs": []
  },
  {
   "cell_type": "markdown",
   "id": "c68caef0",
   "metadata": {},
   "source": [
    "### 四边形网格 QuadrangleMesh"
   ]
  },
  {
   "cell_type": "code",
   "execution_count": 12,
   "id": "aa2b74e6",
   "metadata": {},
   "source": [
    "import numpy as np\n",
    "import matplotlib.pyplot as plt\n",
    "from fealpy.mesh import QuadrangleMesh\n",
    "\n",
    "i = 1\n",
    "if i == 0:\n",
    "    mesh = QuadrangleMesh.from_one_quadrangle(meshtype='square')\n",
    "elif i == 1:mesh = QuadrangleMesh.from_unit_square(\n",
    "    nx=10, ny=10, threshold=None)\n",
    "\n",
    "\n",
    "fig, axes = plt.subplots()\n",
    "mesh.add_plot(axes)\n",
    "mesh.find_node(axes)\n",
    "mesh.find_cell(axes)\n",
    "mesh.find_edge(axes)\n",
    "plt.show()"
   ],
   "outputs": []
  },
  {
   "cell_type": "markdown",
   "id": "17e54b2e",
   "metadata": {},
   "source": [
    "### 多边形网格"
   ]
  },
  {
   "cell_type": "code",
   "execution_count": 13,
   "id": "4ec9a034",
   "metadata": {},
   "source": [
    "import numpy as np\n",
    "import matplotlib.pyplot as plt\n",
    "from fealpy.mesh import PolygonMesh, TriangleMesh\n",
    "\n",
    "i = 4\n",
    "if i == 0:\n",
    "    mesh = PolygonMesh.from_one_triangle(meshtype='iso')\n",
    "elif i == 1:\n",
    "    mesh = PolygonMesh.from_one_square()\n",
    "elif i == 2:\n",
    "    mesh = PolygonMesh.from_one_pentagon()\n",
    "elif i == 3:\n",
    "    mesh = PolygonMesh.from_one_hexagon()\n",
    "elif i == 4:\n",
    "    vertices = np.array([(0, 0), (1, 0), (0.5, 1)])\n",
    "    h = 0.1\n",
    "    tmesh = TriangleMesh.from_polygon_gmsh(vertices, h)\n",
    "    mesh = PolygonMesh.from_triangle_mesh_by_dual(tmesh, bc=True)\n",
    "\n",
    "fig, axes = plt.subplots()\n",
    "mesh.add_plot(axes, cellcolor=[0.5, 0.9, 0.45], edgecolor='k')\n",
    "plt.show()"
   ],
   "outputs": []
  },
  {
   "cell_type": "markdown",
   "id": "c0e77138",
   "metadata": {},
   "source": [
    "### 四面体网格 TetrahedronMesh"
   ]
  },
  {
   "cell_type": "code",
   "execution_count": 23,
   "id": "ae0a3547",
   "metadata": {},
   "source": [
    "import numpy as np\n",
    "import matplotlib.pyplot as plt\n",
    "from mpl_toolkits.mplot3d import Axes3D\n",
    "from fealpy.mesh import TetrahedronMesh\n",
    "\n",
    "i = 0\n",
    "if i == 0:\n",
    "    mesh = TetrahedronMesh.from_one_tetrahedron(meshtype='equ')\n",
    "\n",
    "if i == 1:\n",
    "    mesh = TetrahedronMesh.from_cylinder_gmsh(1, 5, 0.1)\n",
    "\n",
    "if i == 2:\n",
    "    points = np.array([\n",
    "        (0, 0, 0), (1, 0, 0), (1, 1, 0), (0, 1, 0),\n",
    "        (0, 0, 1), (1, 0, 1), (1, 1, 1), (0, 1, 1),\n",
    "        ])\n",
    "\n",
    "    facets = np.array([\n",
    "        [0, 1, 2, 3],\n",
    "        [4, 5, 6, 7],\n",
    "        [0, 4, 5, 1],\n",
    "        [1, 5, 6, 2],\n",
    "        [2, 6, 7, 3],\n",
    "        [3, 7, 4, 0],\n",
    "        ])   \n",
    "    mesh = TetrahedronMesh.from_meshpy(points, facets, 0.2)\n",
    "\n",
    "fig = plt.figure()\n",
    "axes = fig.add_subplot(111, projection='3d')\n",
    "mesh.add_plot(axes)\n",
    "plt.show()"
   ],
   "outputs": []
  },
  {
   "cell_type": "markdown",
   "id": "e067a86f",
   "metadata": {},
   "source": [
    "### 六面体网格"
   ]
  },
  {
   "cell_type": "code",
   "execution_count": 14,
   "id": "12b4f795",
   "metadata": {},
   "source": [
    "import numpy as np\n",
    "import matplotlib.pyplot as plt\n",
    "from mpl_toolkits.mplot3d import Axes3D\n",
    "from fealpy.mesh import TetrahedronMesh\n",
    "from fealpy.mesh import HexahedronMesh\n",
    "\n",
    "i = 1\n",
    "\n",
    "if i==0:\n",
    "    def threshold(p):\n",
    "        x = p[..., 0]\n",
    "        y = p[..., 1]\n",
    "        z = p[..., 2]\n",
    "        return (x > 0.0) & (y < 0.0) & (z > 0.0)\n",
    "    box = [-1, 1, -1, 1, -1, 1]\n",
    "    mesh = HexahedronMesh.from_box(\n",
    "        box=box, nx=10, ny=10, nz=10, threshold=threshold)\n",
    "    \n",
    "if i==1:\n",
    "    tmesh = TetrahedronMesh.from_one_tetrahedron(meshtype='equ')\n",
    "    mesh = HexahedronMesh.from_tetrahedron_mesh(tmesh)\n",
    "    \n",
    "fig = plt.figure()\n",
    "axes = fig.add_subplot(111, projection='3d')\n",
    "mesh.add_plot(axes)\n",
    "plt.show()"
   ],
   "outputs": []
  },
  {
   "cell_type": "markdown",
   "id": "171923ce",
   "metadata": {},
   "source": [
    "### 一维单元网格 EdgeMesh \n",
    "\n",
    "在实际应用中有很多力学结构是由一维单元组成的，如梁、桁架、框架等。在 FEALPy 中对应的网格类型为 `EdgeMesh`."
   ]
  },
  {
   "cell_type": "code",
   "execution_count": 15,
   "id": "fff06baf",
   "metadata": {},
   "source": [
    "import numpy as np\n",
    "import matplotlib.pyplot as plt\n",
    "from mpl_toolkits.mplot3d import Axes3D\n",
    "from fealpy.mesh import EdgeMesh\n",
    "\n",
    "mesh = EdgeMesh.from_tower()\n",
    "\n",
    "fig = plt.figure()\n",
    "axes = fig.add_subplot(111, projection='3d')\n",
    "mesh.add_plot(axes)\n",
    "plt.show()"
   ],
   "outputs": []
  },
  {
   "cell_type": "code",
   "execution_count": 10,
   "id": "b47ddf78",
   "metadata": {},
   "source": [],
   "outputs": []
  },
  {
   "cell_type": "markdown",
   "id": "581162e9",
   "metadata": {},
   "source": []
  }
 ],
 "metadata": {
  "kernelspec": {
   "display_name": "Python 3 (ipykernel)",
   "language": "python",
   "name": "python3"
  },
  "language_info": {
   "codemirror_mode": {
    "name": "ipython",
    "version": 3
   },
   "file_extension": ".py",
   "mimetype": "text/x-python",
   "name": "python",
   "nbconvert_exporter": "python",
   "pygments_lexer": "ipython3",
   "version": "3.10.12"
  }
 },
 "nbformat": 4,
 "nbformat_minor": 5
}
