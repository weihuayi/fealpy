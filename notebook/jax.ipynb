{
 "cells": [
  {
   "cell_type": "code",
   "execution_count": 6,
   "metadata": {},
   "outputs": [
    {
     "name": "stdout",
     "output_type": "stream",
     "text": [
      "未编译的函数结果: [10  2  3  4  5]\n",
      "编译后的函数结果: [ 1  2 10  4  5]\n"
     ]
    }
   ],
   "source": [
    "import jax\n",
    "import jax.numpy as jnp\n",
    "\n",
    "# 定义一个使用 a.at[].set 的函数\n",
    "def update_array(a, index, value):\n",
    "    return a.at[index].set(value)\n",
    "\n",
    "# 编译该函数\n",
    "update_array_jit = jax.jit(update_array)\n",
    "\n",
    "# 示例数组\n",
    "a = jnp.array([1, 2, 3, 4, 5])\n",
    "\n",
    "# 使用未编译的函数进行修改\n",
    "new_a = update_array(a, (..., 0), 10)\n",
    "print(\"未编译的函数结果:\", new_a)\n",
    "\n",
    "# 使用编译后的函数进行修改\n",
    "new_a_jit = update_array_jit(a, 2, 10)\n",
    "print(\"编译后的函数结果:\", new_a_jit)\n",
    "\n"
   ]
  },
  {
   "cell_type": "code",
   "execution_count": 5,
   "metadata": {},
   "outputs": [
    {
     "name": "stdout",
     "output_type": "stream",
     "text": [
      "[[ 2 12  7 13 14  6  3  8  9  0]\n",
      " [ 1  4 11  5 15 10  0  9  8  3]]\n",
      "[[0.         0.        ]\n",
      " [0.         1.        ]\n",
      " [1.         0.        ]\n",
      " [1.         1.        ]\n",
      " [0.         0.66666667]\n",
      " [0.         0.33333333]\n",
      " [0.33333333 0.        ]\n",
      " [0.66666667 0.        ]\n",
      " [0.66666667 0.66666667]\n",
      " [0.33333333 0.33333333]\n",
      " [0.66666667 1.        ]\n",
      " [0.33333333 1.        ]\n",
      " [1.         0.33333333]\n",
      " [1.         0.66666667]\n",
      " [0.66666667 0.33333333]\n",
      " [0.33333333 0.66666667]]\n"
     ]
    },
    {
     "data": {
      "image/png": "[encoded data removed]",
      "text/plain": [
       "<Figure size 640x480 with 1 Axes>"
      ]
     },
     "metadata": {},
     "output_type": "display_data"
    }
   ],
   "source": [
    "import matplotlib.pyplot as plt\n",
    "from fealpy.mesh import TriangleMesh\n",
    "from fealpy.functionspace import LagrangeFESpace\n",
    "\n",
    "mesh = TriangleMesh.from_box(box=[0, 1, 0, 1], nx=1, ny=1)\n",
    "space = LagrangeFESpace(mesh, p = 3)\n",
    "ips = space.interpolation_points()\n",
    "cell2dof = space.cell_to_dof()\n",
    "print(cell2dof)\n",
    "print(ips)\n",
    "fig = plt.figure()\n",
    "axes = fig.gca()\n",
    "mesh.add_plot(axes)\n",
    "mesh.find_node(axes, node=ips, showindex=True)\n",
    "#mesh.find_cell(axes, showindex=True)\n",
    "#mesh.find_edge(axes, showindex=True)"
   ]
  },
  {
   "cell_type": "code",
   "execution_count": null,
   "metadata": {},
   "outputs": [],
   "source": []
  }
 ],
 "metadata": {
  "kernelspec": {
   "display_name": "Python 3 (ipykernel)",
   "language": "python",
   "name": "python3"
  },
  "language_info": {
   "codemirror_mode": {
    "name": "ipython",
    "version": 3
   },
   "file_extension": ".py",
   "mimetype": "text/x-python",
   "name": "python",
   "nbconvert_exporter": "python",
   "pygments_lexer": "ipython3",
   "version": "3.10.13"
  }
 },
 "nbformat": 4,
 "nbformat_minor": 4
}
