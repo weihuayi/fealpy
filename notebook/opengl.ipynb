{
 "cells": [
  {
   "cell_type": "code",
   "execution_count": 1,
   "metadata": {},
   "source": [
    "from OpenGL.GL import *\n",
    "from OpenGL.arrays import vbo"
   ],
   "outputs": []
  },
  {
   "cell_type": "code",
   "execution_count": 5,
   "metadata": {},
   "source": [
    "import numpy as np\n",
    "from fealpy.mesh import TriangleMesh\n",
    "\n",
    "mesh = TriangleMesh.from_unit_sphere_surface(refine=3)\n",
    "node = mesh.entity('node')\n",
    "l = np.linalg.norm(node, axis=-1)\n",
    "print(l, len(l), len(node))\n",
    "np.linalg.norm??\n"
   ],
   "outputs": []
  },
  {
   "cell_type": "code",
   "execution_count": null,
   "metadata": {},
   "source": [],
   "outputs": []
  }
 ],
 "metadata": {
  "kernelspec": {
   "display_name": "gjaxfealpy",
   "language": "python",
   "name": "python3"
  },
  "language_info": {
   "codemirror_mode": {
    "name": "ipython",
    "version": 3
   },
   "file_extension": ".py",
   "mimetype": "text/x-python",
   "name": "python",
   "nbconvert_exporter": "python",
   "pygments_lexer": "ipython3",
   "version": "3.10.12"
  }
 },
 "nbformat": 4,
 "nbformat_minor": 2
}
