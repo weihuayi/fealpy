{
 "cells": [
  {
   "cell_type": "code",
   "execution_count": 1,
   "id": "3cac9cb1-d019-46f7-9ac2-63b3fedcf450",
   "metadata": {},
   "outputs": [
    {
     "name": "stderr",
     "output_type": "stream",
     "text": [
      "[08-19 06:28:28][WARNING] fealpy(exp): `unstack` not found in numpy. Method `unstack` remains unimplemented.\n",
      "[08-19 06:28:28][WARNING] fealpy(exp): `cumulative_sum` not found in numpy. Method `cumulative_sum` remains unimplemented.\n"
     ]
    },
    {
     "data": {
      "image/png": "[encoded data removed]",
      "text/plain": [
       "<Figure size 640x480 with 1 Axes>"
      ]
     },
     "metadata": {},
     "output_type": "display_data"
    }
   ],
   "source": [
    "import numpy as np\n",
    "import matplotlib.pyplot as plt\n",
    "from fealpy.backend import backend_manager as bm\n",
    "bm.set_backend('numpy')\n",
    "from fealpy.mesh import TriangleMesh\n",
    "node = bm.array([\n",
    "    [0, 0],  # 0\n",
    "    [1, 0],  # 1\n",
    "    [1, 1],  # 2\n",
    "    [0, 1]], # 3\n",
    "    dtype=bm.float64)\n",
    "\n",
    "cell = bm.array([\n",
    "    [1, 2, 0],  # 0\n",
    "    [3, 0, 2]], # 1\n",
    "    dtype=bm.int32)\n",
    "mesh = TriangleMesh(node, cell)\n",
    "\n",
    "fig, axes = plt.subplots()\n",
    "mesh.add_plot(axes, cellcolor='g')\n",
    "mesh.find_node(axes, showindex=True,\n",
    "              color='r', marker='o', fontsize=15, fontcolor='r')\n",
    "mesh.find_edge(axes, showindex=True,\n",
    "              color='b', marker='v', fontsize=20, fontcolor='b')\n",
    "mesh.find_cell(axes, showindex=True,\n",
    "              color='k', marker='s', fontsize=25, fontcolor='k')\n",
    "plt.show()"
   ]
  },
  {
   "cell_type": "code",
   "execution_count": null,
   "id": "df927eae-197f-47a8-91ff-302e643802d9",
   "metadata": {},
   "outputs": [],
   "source": []
  }
 ],
 "metadata": {
  "kernelspec": {
   "display_name": "Python 3 (ipykernel)",
   "language": "python",
   "name": "python3"
  },
  "language_info": {
   "codemirror_mode": {
    "name": "ipython",
    "version": 3
   },
   "file_extension": ".py",
   "mimetype": "text/x-python",
   "name": "python",
   "nbconvert_exporter": "python",
   "pygments_lexer": "ipython3",
   "version": "3.10.13"
  }
 },
 "nbformat": 4,
 "nbformat_minor": 5
}
